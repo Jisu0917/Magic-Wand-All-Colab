{
  "nbformat": 4,
  "nbformat_minor": 0,
  "metadata": {
    "colab": {
      "provenance": []
    },
    "kernelspec": {
      "name": "python3",
      "display_name": "Python 3"
    },
    "language_info": {
      "name": "python"
    }
  },
  "cells": [
    {
      "cell_type": "code",
      "execution_count": 1,
      "metadata": {
        "id": "r8uBoPgM-F3v"
      },
      "outputs": [],
      "source": [
        "SAVED_MODEL_FILENAME = \"saved_model\"\n",
        "FLOAT_TFL_MODEL_FILENAME = \"float_model.tfl\"\n",
        "QUANTIZED_TFL_MODEL_FILENAME = \"quantized_model.tfl\"\n",
        "TFL_CC_MODEL_FILENAME = \"magic_wand_model_data.cc\""
      ]
    },
    {
      "cell_type": "code",
      "source": [
        "!curl -L https://github.com/Jisu0917/magic_wand_all/archive/5095a5906c29f08442e12118e231eb2ac0a354e3.zip -o magic_wand_data.zip\n",
        "!unzip magic_wand_data.zip\n",
        "!rm -rf magic_wand_data\n",
        "!mv -f magic_wand_all-* magic_wand_data\n",
        "!rm -rf magic_wand_data.zip\n",
        "!rm -rf sample_data\n",
        "!mkdir -p checkpoints"
      ],
      "metadata": {
        "colab": {
          "base_uri": "https://localhost:8080/"
        },
        "id": "-3HILdNH-KzJ",
        "outputId": "1fdfcec1-0347-4a7d-9927-785f202408b4"
      },
      "execution_count": 2,
      "outputs": [
        {
          "output_type": "stream",
          "name": "stdout",
          "text": [
            "  % Total    % Received % Xferd  Average Speed   Time    Time     Time  Current\n",
            "                                 Dload  Upload   Total   Spent    Left  Speed\n",
            "  0     0    0     0    0     0      0      0 --:--:-- --:--:-- --:--:--     0\n",
            "100  304k    0  304k    0     0   381k      0 --:--:-- --:--:-- --:--:--  381k\n",
            "Archive:  magic_wand_data.zip\n",
            "5095a5906c29f08442e12118e231eb2ac0a354e3\n",
            "   creating: magic_wand_all-5095a5906c29f08442e12118e231eb2ac0a354e3/\n",
            "  inflating: magic_wand_all-5095a5906c29f08442e12118e231eb2ac0a354e3/alphabet_a.json  \n",
            "  inflating: magic_wand_all-5095a5906c29f08442e12118e231eb2ac0a354e3/alphabet_b.json  \n",
            "  inflating: magic_wand_all-5095a5906c29f08442e12118e231eb2ac0a354e3/digit_0.json  \n",
            "  inflating: magic_wand_all-5095a5906c29f08442e12118e231eb2ac0a354e3/digit_1.json  \n",
            "  inflating: magic_wand_all-5095a5906c29f08442e12118e231eb2ac0a354e3/digit_2.json  \n",
            "  inflating: magic_wand_all-5095a5906c29f08442e12118e231eb2ac0a354e3/digit_3.json  \n",
            "  inflating: magic_wand_all-5095a5906c29f08442e12118e231eb2ac0a354e3/digit_4.json  \n",
            "  inflating: magic_wand_all-5095a5906c29f08442e12118e231eb2ac0a354e3/digit_5.json  \n",
            "  inflating: magic_wand_all-5095a5906c29f08442e12118e231eb2ac0a354e3/digit_6.json  \n",
            "  inflating: magic_wand_all-5095a5906c29f08442e12118e231eb2ac0a354e3/digit_7.json  \n",
            "  inflating: magic_wand_all-5095a5906c29f08442e12118e231eb2ac0a354e3/digit_8.json  \n",
            "  inflating: magic_wand_all-5095a5906c29f08442e12118e231eb2ac0a354e3/digit_9.json  \n",
            "  inflating: magic_wand_all-5095a5906c29f08442e12118e231eb2ac0a354e3/figure_circle.json  \n",
            "  inflating: magic_wand_all-5095a5906c29f08442e12118e231eb2ac0a354e3/figure_heart.json  \n",
            "  inflating: magic_wand_all-5095a5906c29f08442e12118e231eb2ac0a354e3/figure_star.json  \n"
          ]
        }
      ]
    },
    {
      "cell_type": "code",
      "source": [
        "import glob\n",
        "import json\n",
        "\n",
        "strokes = []\n",
        "for filename in glob.glob(\"magic_wand_data/*.json\"):\n",
        "  with open(filename, \"r\") as file:\n",
        "    file_contents = file.read()\n",
        "  file_data = json.loads(file_contents)\n",
        "  for stroke in file_data[\"strokes\"]:\n",
        "    stroke[\"filename\"] = filename\n",
        "    strokes.append(stroke)"
      ],
      "metadata": {
        "id": "CGmdrhXm-iw8"
      },
      "execution_count": 3,
      "outputs": []
    },
    {
      "cell_type": "code",
      "source": [
        "import matplotlib.pyplot as plt\n",
        "\n",
        "def plot_stroke(stroke):\n",
        "\n",
        "  x_array = []\n",
        "  y_array = []\n",
        "  for coords in stroke[\"strokePoints\"]:\n",
        "    x_array.append(coords[\"x\"])\n",
        "    y_array.append(coords[\"y\"])\n",
        "\n",
        "  fig = plt.figure(figsize=(12.8, 4.8))\n",
        "  fig.suptitle(stroke[\"label\"])\n",
        "\n",
        "  ax = fig.add_subplot(131)\n",
        "  ax.set_xlabel('x')\n",
        "  ax.set_ylabel('y')\n",
        "  ax.set_xlim(-0.4, 0.4)\n",
        "  ax.set_ylim(-0.4, 0.4)\n",
        "  ax.plot(x_array, y_array)\n",
        "\n",
        "  plt.show()"
      ],
      "metadata": {
        "id": "yFi9Mg3t-n7b"
      },
      "execution_count": 4,
      "outputs": []
    },
    {
      "cell_type": "code",
      "source": [
        "plot_stroke(strokes[11])"
      ],
      "metadata": {
        "colab": {
          "base_uri": "https://localhost:8080/",
          "height": 497
        },
        "id": "E5wRE5OQP1N4",
        "outputId": "9c191277-4cbb-477f-98c2-e2e3335f948a"
      },
      "execution_count": 5,
      "outputs": [
        {
          "output_type": "display_data",
          "data": {
            "text/plain": [
              "<Figure size 1280x480 with 1 Axes>"
            ],
            "image/png": "[encoded data removed]"
          },
          "metadata": {}
        }
      ]
    },
    {
      "cell_type": "code",
      "source": [
        "import math\n",
        "import numpy as np\n",
        "import PIL\n",
        "\n",
        "FIXED_POINT = 256\n",
        "\n",
        "def mul_fp(a, b):\n",
        "  return (a * b) / FIXED_POINT\n",
        "\n",
        "def div_fp(a, b):\n",
        "  if b == 0:\n",
        "    b = 1\n",
        "  return (a * FIXED_POINT) / b\n",
        "\n",
        "def float_to_fp(a):\n",
        "  return math.floor(a * FIXED_POINT)\n",
        "\n",
        "def norm_to_coord_fp(a, range_fp, half_size_fp):\n",
        "  a_fp = float_to_fp(a)\n",
        "  norm_fp = div_fp(a_fp, range_fp)\n",
        "  return mul_fp(norm_fp, half_size_fp) + half_size_fp\n",
        "\n",
        "def round_fp_to_int(a):\n",
        "  return math.floor((a + (FIXED_POINT / 2)) / FIXED_POINT)\n",
        "\n",
        "def gate(a, min, max):\n",
        "  if a < min:\n",
        "    return min\n",
        "  elif a > max:\n",
        "    return max\n",
        "  else:\n",
        "    return a\n",
        "\n",
        "def rasterize_stroke(stroke_points, x_range, y_range, width, height):\n",
        "  num_channels = 3\n",
        "  buffer_byte_count = height * width * num_channels\n",
        "  buffer = bytearray(buffer_byte_count)\n",
        "\n",
        "  width_fp = width * FIXED_POINT\n",
        "  height_fp = height * FIXED_POINT\n",
        "  half_width_fp = width_fp / 2\n",
        "  half_height_fp = height_fp / 2\n",
        "  x_range_fp = float_to_fp(x_range)\n",
        "  y_range_fp = float_to_fp(y_range)\n",
        "\n",
        "  t_inc_fp = FIXED_POINT / len(stroke_points)\n",
        "\n",
        "  one_half_fp = (FIXED_POINT / 2)\n",
        "\n",
        "  for point_index in range(len(stroke_points) - 1):\n",
        "    start_point = stroke_points[point_index]\n",
        "    end_point = stroke_points[point_index + 1]\n",
        "    start_x_fp = norm_to_coord_fp(start_point[\"x\"], x_range_fp, half_width_fp)\n",
        "    start_y_fp = norm_to_coord_fp(-start_point[\"y\"], y_range_fp, half_height_fp)\n",
        "    end_x_fp = norm_to_coord_fp(end_point[\"x\"], x_range_fp, half_width_fp)\n",
        "    end_y_fp = norm_to_coord_fp(-end_point[\"y\"], y_range_fp, half_height_fp)\n",
        "    delta_x_fp = end_x_fp - start_x_fp\n",
        "    delta_y_fp = end_y_fp - start_y_fp\n",
        "\n",
        "    t_fp = point_index * t_inc_fp\n",
        "    if t_fp < one_half_fp:\n",
        "      local_t_fp = div_fp(t_fp, one_half_fp)\n",
        "      one_minus_t_fp = FIXED_POINT - local_t_fp\n",
        "      red = round_fp_to_int(one_minus_t_fp * 255)\n",
        "      green = round_fp_to_int(local_t_fp * 255)\n",
        "      blue = 0\n",
        "    else:\n",
        "      local_t_fp = div_fp(t_fp - one_half_fp, one_half_fp)\n",
        "      one_minus_t_fp = FIXED_POINT - local_t_fp\n",
        "      red = 0\n",
        "      green = round_fp_to_int(one_minus_t_fp * 255)\n",
        "      blue = round_fp_to_int(local_t_fp * 255)\n",
        "    red = gate(red, 0, 255)\n",
        "    green = gate(green, 0, 255)\n",
        "    blue = gate(blue, 0, 255)\n",
        "\n",
        "    if abs(delta_x_fp) > abs(delta_y_fp):\n",
        "      line_length = abs(round_fp_to_int(delta_x_fp))\n",
        "      if delta_x_fp > 0:\n",
        "        x_inc_fp = 1 * FIXED_POINT\n",
        "        y_inc_fp = div_fp(delta_y_fp, delta_x_fp)\n",
        "      else:\n",
        "        x_inc_fp = -1 * FIXED_POINT\n",
        "        y_inc_fp = -div_fp(delta_y_fp, delta_x_fp)\n",
        "    else:\n",
        "      line_length = abs(round_fp_to_int(delta_y_fp))\n",
        "      if delta_y_fp > 0:\n",
        "        y_inc_fp = 1 * FIXED_POINT\n",
        "        x_inc_fp = div_fp(delta_x_fp, delta_y_fp)\n",
        "      else:\n",
        "        y_inc_fp = -1 * FIXED_POINT\n",
        "        x_inc_fp = -div_fp(delta_x_fp, delta_y_fp)\n",
        "    for i in range(line_length + 1):\n",
        "      x_fp = start_x_fp + (i * x_inc_fp)\n",
        "      y_fp = start_y_fp + (i * y_inc_fp)\n",
        "      x = round_fp_to_int(x_fp)\n",
        "      y = round_fp_to_int(y_fp)\n",
        "      if (x < 0) or (x >= width) or (y < 0) or (y >= height):\n",
        "        continue\n",
        "      buffer_index = (y * width * num_channels) + (x * num_channels)\n",
        "      buffer[buffer_index + 0] = red\n",
        "      buffer[buffer_index + 1] = green\n",
        "      buffer[buffer_index + 2] = blue\n",
        "\n",
        "  np_buffer = np.frombuffer(buffer, dtype=np.uint8).reshape(height, width, num_channels)\n",
        "\n",
        "  return np_buffer"
      ],
      "metadata": {
        "id": "ImnAhGCG-qfH"
      },
      "execution_count": 6,
      "outputs": []
    },
    {
      "cell_type": "code",
      "source": [
        "raster = rasterize_stroke(strokes[11][\"strokePoints\"], 0.5, 0.5, 32, 32)\n",
        "PIL.Image.fromarray(raster).resize((512, 512), PIL.Image.NEAREST)"
      ],
      "metadata": {
        "colab": {
          "base_uri": "https://localhost:8080/",
          "height": 529
        },
        "id": "yxqTEfVCP7XK",
        "outputId": "d63bfef8-c307-4665-8739-89cb377335a1"
      },
      "execution_count": 7,
      "outputs": [
        {
          "output_type": "execute_result",
          "data": {
            "text/plain": [
              "<PIL.Image.Image image mode=RGB size=512x512>"
            ],
            "image/png": "[encoded data removed]"
          },
          "metadata": {},
          "execution_count": 7
        }
      ]
    },
    {
      "cell_type": "code",
      "source": [
        "from pathlib import Path\n",
        "import shutil\n",
        "\n",
        "X_RANGE = 0.6\n",
        "Y_RANGE = 0.6\n",
        "\n",
        "def ensure_empty_dir(dirname):\n",
        "  dirpath = Path(dirname)\n",
        "  if dirpath.exists() and dirpath.is_dir():\n",
        "    shutil.rmtree(dirpath)\n",
        "  dirpath.mkdir()\n",
        "\n",
        "def augment_points(points, move_range, scale_range, rotate_range):\n",
        "  move_x = np.random.uniform(low=-move_range, high=move_range)\n",
        "  move_y = np.random.uniform(low=-move_range, high=move_range)\n",
        "  scale = np.random.uniform(low=1.0-scale_range, high=1.0+scale_range)\n",
        "  rotate = np.random.uniform(low=-rotate_range, high=rotate_range)\n",
        "\n",
        "  x_axis_x = math.cos(rotate) * scale\n",
        "  x_axis_y = math.sin(rotate) * scale\n",
        "\n",
        "  y_axis_x = -math.sin(rotate) * scale\n",
        "  y_axis_y = math.cos(rotate) * scale\n",
        "\n",
        "  new_points = []\n",
        "  for point in points:\n",
        "    old_x = point[\"x\"]\n",
        "    old_y = point[\"y\"]\n",
        "    new_x = (x_axis_x * old_x) + (x_axis_y * old_y) + move_x\n",
        "    new_y = (y_axis_x * old_x) + (y_axis_y * old_y) + move_y\n",
        "    new_points.append({\"x\": new_x, \"y\": new_y})\n",
        "\n",
        "  return new_points\n",
        "\n",
        "def save_strokes_as_images(strokes, root_folder, width, height, augment_count):\n",
        "  ensure_empty_dir(root_folder)\n",
        "  labels = set()\n",
        "  for stroke in strokes:\n",
        "    labels.add(stroke[\"label\"].lower())\n",
        "  for label in labels:\n",
        "    label_path = Path(root_folder, label)\n",
        "    ensure_empty_dir(label_path)\n",
        "\n",
        "  label_counts = {}\n",
        "  for stroke in strokes:\n",
        "    points = stroke[\"strokePoints\"]\n",
        "    label = stroke[\"label\"].lower()\n",
        "    if label == \"\":\n",
        "      raise Exception(\"Missing label for %s:%d\" % (stroke[\"filename\"], stroke[\"index\"]))\n",
        "    if label not in label_counts:\n",
        "      label_counts[label] = 0\n",
        "    label_count = label_counts[label]\n",
        "    label_counts[label] += 1\n",
        "    raster = rasterize_stroke(points, X_RANGE, Y_RANGE, width, height)\n",
        "    image = PIL.Image.fromarray(raster)\n",
        "    image.save(Path(root_folder, label, str(label_count) + \".png\"))\n",
        "    for i in range(augment_count):\n",
        "      augmented_points = augment_points(points, 0.1, 0.1, 0.3)\n",
        "      raster = rasterize_stroke(augmented_points, X_RANGE, Y_RANGE, width, height)\n",
        "      image = PIL.Image.fromarray(raster)\n",
        "      image.save(Path(root_folder, label, str(label_count) + \"_a\" + str(i) + \".png\"))\n"
      ],
      "metadata": {
        "id": "lcMY-_Wt-uhB"
      },
      "execution_count": 8,
      "outputs": []
    },
    {
      "cell_type": "code",
      "source": [
        "IMAGE_WIDTH = 32\n",
        "IMAGE_HEIGHT = 32\n",
        "\n",
        "shuffled_strokes = strokes\n",
        "np.random.shuffle(shuffled_strokes)\n",
        "\n",
        "test_percentage = 10\n",
        "validation_percentage = 10\n",
        "train_percentage = 100 - (test_percentage + validation_percentage)\n",
        "\n",
        "test_count = math.floor((len(shuffled_strokes) * test_percentage) / 100)\n",
        "validation_count = math.floor((len(shuffled_strokes) * validation_percentage) / 100)\n",
        "test_strokes = shuffled_strokes[0:test_count]\n",
        "validation_strokes = shuffled_strokes[test_count:(test_count + validation_count)]\n",
        "train_strokes = shuffled_strokes[(test_count + validation_count):]\n",
        "\n",
        "save_strokes_as_images(test_strokes, \"test\", IMAGE_WIDTH, IMAGE_HEIGHT, 10)\n",
        "save_strokes_as_images(validation_strokes, \"validation\", IMAGE_WIDTH, IMAGE_HEIGHT, 0)\n",
        "save_strokes_as_images(train_strokes, \"train\", IMAGE_WIDTH, IMAGE_HEIGHT, 10)"
      ],
      "metadata": {
        "id": "fqCbISS_-wwX"
      },
      "execution_count": 9,
      "outputs": []
    },
    {
      "cell_type": "code",
      "source": [
        "import os\n",
        "import tensorflow as tf\n",
        "import numpy as np\n",
        "from keras.preprocessing import image\n",
        "\n",
        "# 이미지 크기\n",
        "IMAGE_WIDTH = 32\n",
        "IMAGE_HEIGHT = 32\n",
        "\n",
        "# 데이터 경로\n",
        "train_data_dir = 'train'\n",
        "validation_data_dir = 'validation'\n",
        "\n",
        "# 데이터셋 구성 함수\n",
        "def create_dataset(data_dir):\n",
        "    images = []\n",
        "    flags = []\n",
        "    labels = []\n",
        "\n",
        "    for label in os.listdir(data_dir):\n",
        "        label_dir = os.path.join(data_dir, label)\n",
        "        if os.path.isdir(label_dir):\n",
        "            flag = 1.0 if label.isdigit() else (2.0 if label in ['circle', 'heart', 'star'] else 3.0)\n",
        "            for file in os.listdir(label_dir):\n",
        "                if file.endswith(\".png\"):  # 이미지 파일만 고려\n",
        "                    image_path = os.path.join(label_dir, file)\n",
        "                    images.append(image_path)\n",
        "                    flags.append(flag)\n",
        "                    labels.append(label)  # 레이블 추가\n",
        "\n",
        "    return images, flags, labels\n",
        "\n",
        "# 훈련 데이터셋 생성\n",
        "train_images, train_flags, train_labels = create_dataset(train_data_dir)\n",
        "\n",
        "# 검증 데이터셋 생성\n",
        "validation_images, validation_flags, validation_labels = create_dataset(validation_data_dir)\n",
        "\n",
        "# 데이터셋 크기 확인\n",
        "print(\"Train size:\", len(train_images))\n",
        "print(\"Validation size:\", len(validation_images))\n",
        "\n",
        "# 이미지 경로, 플래그, 레이블을 이용한 데이터셋 생성 함수\n",
        "def preprocess_dataset(images, flags, labels):\n",
        "    image_dataset = []\n",
        "    for img_path, flag, label in zip(images, flags, labels):\n",
        "        img = image.load_img(img_path, target_size=(IMAGE_WIDTH, IMAGE_HEIGHT))\n",
        "        img_array = image.img_to_array(img)\n",
        "        img_array /= 255.0  # 이미지 정규화\n",
        "        image_dataset.append((img_array, flag, label))  # 이미지, 플래그, 레이블 튜플 추가\n",
        "    return image_dataset\n",
        "\n",
        "# 데이터셋 구성\n",
        "train_dataset = preprocess_dataset(train_images, train_flags, train_labels)\n",
        "validation_dataset = preprocess_dataset(validation_images, validation_flags, validation_labels)\n",
        "\n",
        "# 데이터셋 셔플\n",
        "np.random.shuffle(train_dataset)\n",
        "np.random.shuffle(validation_dataset)\n",
        "\n",
        "# 데이터셋 변환 및 배치 설정\n",
        "def prepare_dataset(dataset):\n",
        "    images = np.array([item[0] for item in dataset])\n",
        "    flags = np.array([item[1] for item in dataset])\n",
        "    labels = np.array([item[2] for item in dataset])\n",
        "    return images, flags, labels\n",
        "\n",
        "train_images, train_flags, train_labels = prepare_dataset(train_dataset)\n",
        "validation_images, validation_flags, validation_labels = prepare_dataset(validation_dataset)"
      ],
      "metadata": {
        "id": "Ix_NJMiXN-xX",
        "colab": {
          "base_uri": "https://localhost:8080/"
        },
        "outputId": "11819671-8670-4bd0-d412-4d50c232a71f"
      },
      "execution_count": 10,
      "outputs": [
        {
          "output_type": "stream",
          "name": "stdout",
          "text": [
            "Train size: 11143\n",
            "Validation size: 126\n"
          ]
        }
      ]
    },
    {
      "cell_type": "code",
      "source": [
        "import tensorflow as tf\n",
        "from keras import layers, Model, Input\n",
        "from keras.layers import Concatenate\n",
        "\n",
        "# 모델 정의\n",
        "def create_model():\n",
        "    # 이미지 입력\n",
        "    img_inputs = Input(shape=(IMAGE_WIDTH, IMAGE_HEIGHT, 3), name='img_inputs')\n",
        "    # flag 입력\n",
        "    flag_inputs = Input(shape=(1,), name='flag_inputs')\n",
        "\n",
        "    # Entry block\n",
        "    x = layers.Rescaling(1.0 / 255)(img_inputs)\n",
        "    x = layers.Conv2D(16, 3, strides=2, padding=\"same\")(x)\n",
        "    x = layers.BatchNormalization()(x)\n",
        "    x = layers.Activation(\"relu\")(x)\n",
        "    x = layers.Dropout(0.5)(x)\n",
        "\n",
        "    x = layers.Conv2D(32, 3, strides=2, padding=\"same\")(x)\n",
        "    x = layers.BatchNormalization()(x)\n",
        "    x = layers.Activation(\"relu\")(x)\n",
        "    x = layers.Dropout(0.5)(x)\n",
        "\n",
        "    x = layers.Conv2D(64, 3, strides=2, padding=\"same\")(x)\n",
        "    x = layers.BatchNormalization()(x)\n",
        "    x = layers.Activation(\"relu\")(x)\n",
        "    x = layers.Dropout(0.5)(x)\n",
        "\n",
        "    x = layers.GlobalAveragePooling2D()(x)\n",
        "\n",
        "    x = layers.Dropout(0.5)(x)\n",
        "\n",
        "    # Flag branch\n",
        "    flag_branch = layers.Dense(64, activation='relu', name='output_flag')(flag_inputs)\n",
        "\n",
        "    # Digit branch\n",
        "    digit_x = layers.Dense(64, activation='relu')(x)\n",
        "    digit_x = Concatenate()([digit_x, flag_branch])  # flag 정보를 레이어 출력에 추가\n",
        "    digit_output = layers.Dense(10, activation='softmax', name='output_digit')(digit_x)\n",
        "\n",
        "    # Figure branch\n",
        "    figure_x = layers.Dense(64, activation='relu')(x)\n",
        "    figure_x = Concatenate()([figure_x, flag_branch])  # flag 정보를 레이어 출력에 추가\n",
        "    figure_output = layers.Dense(3, activation='softmax', name='output_figure')(figure_x)\n",
        "\n",
        "    # Alphabet branch\n",
        "    alphabet_x = layers.Dense(64, activation='relu')(x)\n",
        "    alphabet_x = Concatenate()([alphabet_x, flag_branch])  # flag 정보를 레이어 출력에 추가\n",
        "    alphabet_output = layers.Dense(2, activation='softmax', name='output_alphabet')(alphabet_x)   ####   26으로 바꿔주기   ####\n",
        "\n",
        "    # Flag 값에 따라 해당하는 출력을 선택\n",
        "    outputs = Concatenate(axis=-1)([digit_output, figure_output, alphabet_output])\n",
        "\n",
        "    # 모델 정의\n",
        "    model = Model(inputs=[img_inputs, flag_inputs], outputs=outputs)\n",
        "    return model\n",
        "\n",
        "# 모델 생성\n",
        "model = create_model()\n"
      ],
      "metadata": {
        "id": "VPAmo-IUn3rj"
      },
      "execution_count": 11,
      "outputs": []
    },
    {
      "cell_type": "code",
      "source": [
        "# 이미지 경로, 레이블, 플래그를 리스트로 저장\n",
        "print(len(train_images))\n",
        "print(len(train_flags))\n",
        "print(len(train_labels))\n",
        "print(len(validation_images))\n",
        "print(len(validation_flags))\n",
        "print(len(validation_labels))"
      ],
      "metadata": {
        "colab": {
          "base_uri": "https://localhost:8080/"
        },
        "id": "ccdiTawUcp_p",
        "outputId": "56a0b2fb-b644-4eac-bb67-c97776c15cdd"
      },
      "execution_count": 12,
      "outputs": [
        {
          "output_type": "stream",
          "name": "stdout",
          "text": [
            "11143\n",
            "11143\n",
            "11143\n",
            "126\n",
            "126\n",
            "126\n"
          ]
        }
      ]
    },
    {
      "cell_type": "code",
      "source": [
        "label_map = {'0': 0, '1': 1, '2': 2, '3': 3, '4': 4, '5': 5, '6': 6, '7': 7, '8': 8, '9': 9,\n",
        "             'circle': 10, 'heart': 11, 'star': 12, 'a': 13, 'b': 14}\n",
        "\n",
        "# train_labels 변환\n",
        "train_labels_numeric = [label_map[label] for label in train_labels]\n",
        "\n",
        "# validation_labels 변환\n",
        "validation_labels_numeric = [label_map[label] for label in validation_labels]\n"
      ],
      "metadata": {
        "id": "RZ_86_S6B97U"
      },
      "execution_count": 13,
      "outputs": []
    },
    {
      "cell_type": "code",
      "source": [
        "epochs = 30\n",
        "batch_size=32\n",
        "\n",
        "# 모델 컴파일\n",
        "model.compile(\n",
        "    optimizer=tf.keras.optimizers.Adam(1e-3),\n",
        "    loss=tf.keras.losses.SparseCategoricalCrossentropy(from_logits=True),  # from_logits=True 설정\n",
        "    metrics=['accuracy']\n",
        ")\n",
        "\n",
        "# 콜백 정의\n",
        "callbacks = [\n",
        "    tf.keras.callbacks.ModelCheckpoint(\"checkpoints/save_at_{epoch}.h5\"),\n",
        "]\n",
        "\n",
        "# # 모델 훈련\n",
        "# model.fit([train_images, train_flags], train_labels, epochs=30, batch_size=32,\n",
        "#           validation_data=([validation_images, validation_flags], validation_labels))\n",
        "\n",
        "# 모델 컴파일\n",
        "model.compile(\n",
        "    optimizer=tf.keras.optimizers.Adam(1e-3),\n",
        "    loss=[\"categorical_crossentropy\", \"categorical_crossentropy\", \"categorical_crossentropy\"],\n",
        "    metrics=[\"accuracy\"]\n",
        ")\n",
        "\n",
        "# 모델 훈련\n",
        "history = model.fit(\n",
        "    [train_images, train_flags],\n",
        "    tf.keras.utils.to_categorical(train_labels_numeric),\n",
        "    epochs=epochs,\n",
        "    batch_size=batch_size,\n",
        "    validation_data=(\n",
        "        [validation_images, validation_flags],\n",
        "        tf.keras.utils.to_categorical(validation_labels_numeric)\n",
        "    ),\n",
        "    callbacks=callbacks\n",
        ")"
      ],
      "metadata": {
        "id": "GetQN1sHOrUF",
        "colab": {
          "base_uri": "https://localhost:8080/"
        },
        "outputId": "7793b65e-cc5b-4bff-dad5-c3947d0c6896"
      },
      "execution_count": 14,
      "outputs": [
        {
          "output_type": "stream",
          "name": "stdout",
          "text": [
            "Epoch 1/30\n",
            "349/349 [==============================] - 11s 21ms/step - loss: 2.9754 - accuracy: 0.0445 - val_loss: 7.4322 - val_accuracy: 0.0635\n",
            "Epoch 2/30\n",
            "  4/349 [..............................] - ETA: 6s - loss: 2.8296 - accuracy: 0.0625"
          ]
        },
        {
          "output_type": "stream",
          "name": "stderr",
          "text": [
            "/usr/local/lib/python3.10/dist-packages/keras/src/engine/training.py:3103: UserWarning: You are saving your model as an HDF5 file via `model.save()`. This file format is considered legacy. We recommend using instead the native Keras format, e.g. `model.save('my_model.keras')`.\n",
            "  saving_api.save_model(\n"
          ]
        },
        {
          "output_type": "stream",
          "name": "stdout",
          "text": [
            "349/349 [==============================] - 8s 22ms/step - loss: 2.6929 - accuracy: 0.0566 - val_loss: 14.5685 - val_accuracy: 0.0635\n",
            "Epoch 3/30\n",
            "349/349 [==============================] - 6s 18ms/step - loss: 2.5749 - accuracy: 0.0533 - val_loss: 14.5685 - val_accuracy: 0.0635\n",
            "Epoch 4/30\n",
            "349/349 [==============================] - 8s 23ms/step - loss: 2.4392 - accuracy: 0.0589 - val_loss: 14.5685 - val_accuracy: 0.0635\n",
            "Epoch 5/30\n",
            "349/349 [==============================] - 6s 18ms/step - loss: 2.3440 - accuracy: 0.0642 - val_loss: 13.8533 - val_accuracy: 0.0635\n",
            "Epoch 6/30\n",
            "349/349 [==============================] - 8s 23ms/step - loss: 2.2754 - accuracy: 0.0743 - val_loss: 12.5118 - val_accuracy: 0.0238\n",
            "Epoch 7/30\n",
            "349/349 [==============================] - 6s 18ms/step - loss: 2.2317 - accuracy: 0.0753 - val_loss: 14.5685 - val_accuracy: 0.0635\n",
            "Epoch 8/30\n",
            "349/349 [==============================] - 8s 22ms/step - loss: 2.2052 - accuracy: 0.0815 - val_loss: 14.1366 - val_accuracy: 0.0635\n",
            "Epoch 9/30\n",
            "349/349 [==============================] - 6s 19ms/step - loss: 2.1551 - accuracy: 0.0866 - val_loss: 13.8171 - val_accuracy: 0.0635\n",
            "Epoch 10/30\n",
            "349/349 [==============================] - 9s 26ms/step - loss: 2.1206 - accuracy: 0.0860 - val_loss: 13.8497 - val_accuracy: 0.0635\n",
            "Epoch 11/30\n",
            "349/349 [==============================] - 6s 18ms/step - loss: 2.0877 - accuracy: 0.0977 - val_loss: 14.5685 - val_accuracy: 0.0635\n",
            "Epoch 12/30\n",
            "349/349 [==============================] - 9s 25ms/step - loss: 2.0508 - accuracy: 0.1047 - val_loss: 14.5685 - val_accuracy: 0.0635\n",
            "Epoch 13/30\n",
            "349/349 [==============================] - 10s 27ms/step - loss: 2.0221 - accuracy: 0.1237 - val_loss: 14.5685 - val_accuracy: 0.0635\n",
            "Epoch 14/30\n",
            "349/349 [==============================] - 7s 19ms/step - loss: 1.9759 - accuracy: 0.1310 - val_loss: 13.3764 - val_accuracy: 0.0952\n",
            "Epoch 15/30\n",
            "349/349 [==============================] - 7s 21ms/step - loss: 1.9352 - accuracy: 0.1323 - val_loss: 14.5685 - val_accuracy: 0.0635\n",
            "Epoch 16/30\n",
            "349/349 [==============================] - 6s 18ms/step - loss: 1.9147 - accuracy: 0.1623 - val_loss: 13.3108 - val_accuracy: 0.0952\n",
            "Epoch 17/30\n",
            "349/349 [==============================] - 8s 23ms/step - loss: 1.8849 - accuracy: 0.1667 - val_loss: 14.5685 - val_accuracy: 0.0635\n",
            "Epoch 18/30\n",
            "349/349 [==============================] - 7s 20ms/step - loss: 1.8538 - accuracy: 0.1791 - val_loss: 13.8533 - val_accuracy: 0.1111\n",
            "Epoch 19/30\n",
            "349/349 [==============================] - 8s 23ms/step - loss: 1.8364 - accuracy: 0.1956 - val_loss: 14.5685 - val_accuracy: 0.0635\n",
            "Epoch 20/30\n",
            "349/349 [==============================] - 6s 18ms/step - loss: 1.8105 - accuracy: 0.2018 - val_loss: 12.3324 - val_accuracy: 0.0238\n",
            "Epoch 21/30\n",
            "349/349 [==============================] - 9s 25ms/step - loss: 1.7840 - accuracy: 0.2323 - val_loss: 14.5685 - val_accuracy: 0.0635\n",
            "Epoch 22/30\n",
            "349/349 [==============================] - 6s 18ms/step - loss: 1.7784 - accuracy: 0.2330 - val_loss: 14.5685 - val_accuracy: 0.0635\n",
            "Epoch 23/30\n",
            "349/349 [==============================] - 8s 23ms/step - loss: 1.7360 - accuracy: 0.2300 - val_loss: 14.5685 - val_accuracy: 0.0635\n",
            "Epoch 24/30\n",
            "349/349 [==============================] - 6s 19ms/step - loss: 1.7379 - accuracy: 0.2388 - val_loss: 14.5685 - val_accuracy: 0.0714\n",
            "Epoch 25/30\n",
            "349/349 [==============================] - 8s 23ms/step - loss: 1.7157 - accuracy: 0.2601 - val_loss: 14.5685 - val_accuracy: 0.0635\n",
            "Epoch 26/30\n",
            "349/349 [==============================] - 6s 18ms/step - loss: 1.7002 - accuracy: 0.2784 - val_loss: 14.0743 - val_accuracy: 0.0635\n",
            "Epoch 27/30\n",
            "349/349 [==============================] - 8s 23ms/step - loss: 1.6967 - accuracy: 0.2617 - val_loss: 13.8533 - val_accuracy: 0.1111\n",
            "Epoch 28/30\n",
            "349/349 [==============================] - 7s 19ms/step - loss: 1.6808 - accuracy: 0.2777 - val_loss: 13.1380 - val_accuracy: 0.1111\n",
            "Epoch 29/30\n",
            "349/349 [==============================] - 8s 24ms/step - loss: 1.6805 - accuracy: 0.2845 - val_loss: 13.1380 - val_accuracy: 0.1111\n",
            "Epoch 30/30\n",
            "349/349 [==============================] - 7s 21ms/step - loss: 1.6736 - accuracy: 0.2787 - val_loss: 12.0756 - val_accuracy: 0.0476\n"
          ]
        }
      ]
    },
    {
      "cell_type": "code",
      "source": [
        "import numpy as np\n",
        "from keras.preprocessing import image\n",
        "\n",
        "def predict_image(image_path, flag_value):\n",
        "    # 이미지 로드 및 전처리\n",
        "    img = image.load_img(image_path, target_size=(IMAGE_WIDTH, IMAGE_HEIGHT))\n",
        "    img_array = image.img_to_array(img)\n",
        "    img_array = np.expand_dims(img_array, axis=0)  # 배치 차원 추가\n",
        "    img_array /= 255.0  # Rescaling\n",
        "    img_tensor = tf.cast(img_array, tf.uint8)  # uint8로 변환\n",
        "\n",
        "    # Flag 값 설정\n",
        "    flag_input = np.array([[flag_value]])  # 2차원 배열로 변환\n",
        "    flag_tensor = tf.cast(flag_input, tf.uint8)\n",
        "\n",
        "    # 이미지와 Flag 값을 결합\n",
        "    combined_input = [img_tensor, flag_tensor]\n",
        "\n",
        "    # 모델을 사용하여 예측 수행\n",
        "    predictions = model.predict(combined_input)\n",
        "\n",
        "    # 예측 결과 해석\n",
        "    if flag_value == 1:\n",
        "        digit_prediction = np.argmax(predictions[:, :10])\n",
        "        digit_confidence = predictions[:, digit_prediction][0]  # 배열에서 첫 번째 값 추출\n",
        "        return {\n",
        "            \"digit_prediction\": digit_prediction,\n",
        "            \"digit_confidence\": digit_confidence\n",
        "        }\n",
        "    elif flag_value == 2:\n",
        "        figure_prediction = np.argmax(predictions[:, 10:13])\n",
        "        figure_confidence = predictions[:, 10:13][0, figure_prediction]  # 배열에서 해당 클래스의 값 추출\n",
        "        if figure_prediction == 0:\n",
        "            figure_prediction = \"circle\"\n",
        "        elif figure_prediction == 1:\n",
        "            figure_prediction = \"heart\"\n",
        "        elif figure_prediction == 2:\n",
        "            figure_prediction = \"star\"\n",
        "        return {\n",
        "            \"figure_prediction\": figure_prediction,\n",
        "            \"figure_confidence\": figure_confidence\n",
        "        }\n",
        "    elif flag_value == 3:\n",
        "        alphabet_prediction = np.argmax(predictions[:, 13:])\n",
        "        alphabet_confidence = predictions[:, 13:][0, alphabet_prediction]  # 배열에서 해당 클래스의 값 추출\n",
        "        return {\n",
        "            \"alphabet_prediction\": chr(97 + alphabet_prediction),  # 알파벳 예측값을 문자로 변환\n",
        "            \"alphabet_confidence\": alphabet_confidence\n",
        "        }\n",
        "\n",
        "# 사용 예시\n",
        "result_digit = predict_image(\"test/7/0.png\", flag_value=1)\n",
        "print(\"Digit prediction:\", result_digit[\"digit_prediction\"])\n",
        "print(\"Digit confidence:\", result_digit[\"digit_confidence\"])\n",
        "\n",
        "result_figure = predict_image(\"test/star/2.png\", flag_value=2)\n",
        "print(\"Figure prediction:\", result_figure[\"figure_prediction\"])\n",
        "print(\"Figure confidence:\", result_figure[\"figure_confidence\"])\n",
        "\n",
        "result_alphabet = predict_image(\"test/b/0.png\", flag_value=3)\n",
        "print(\"Alphabet prediction:\", result_alphabet[\"alphabet_prediction\"])\n",
        "print(\"Alphabet confidence:\", result_alphabet[\"alphabet_confidence\"])\n"
      ],
      "metadata": {
        "colab": {
          "base_uri": "https://localhost:8080/"
        },
        "id": "Tysr9rqmIvuT",
        "outputId": "be3bac45-15d5-4a66-c078-2f06bf6d7ab0"
      },
      "execution_count": 16,
      "outputs": [
        {
          "output_type": "stream",
          "name": "stdout",
          "text": [
            "1/1 [==============================] - 0s 436ms/step\n",
            "Digit prediction: 0\n",
            "Digit confidence: 0.9993469\n",
            "1/1 [==============================] - 0s 59ms/step\n",
            "Figure prediction: heart\n",
            "Figure confidence: 0.9814844\n",
            "1/1 [==============================] - 0s 62ms/step\n",
            "Alphabet prediction: a\n",
            "Alphabet confidence: 1.0\n"
          ]
        }
      ]
    },
    {
      "cell_type": "code",
      "source": [
        "result_digit = predict_image(\"test/7/0.png\", flag_value=1)\n",
        "print(\"Digit prediction:\", result_digit[\"digit_prediction\"])\n",
        "print(\"Digit confidence:\", result_digit[\"digit_confidence\"])\n",
        "\n",
        "result_figure = predict_image(\"test/star/2.png\", flag_value=2)\n",
        "print(\"Figure prediction:\", result_figure[\"figure_prediction\"])\n",
        "print(\"Figure confidence:\", result_figure[\"figure_confidence\"])\n",
        "\n",
        "result_alphabet = predict_image(\"test/b/0.png\", flag_value=3)\n",
        "print(\"Alphabet prediction:\", result_alphabet[\"alphabet_prediction\"])\n",
        "print(\"Alphabet confidence:\", result_alphabet[\"alphabet_confidence\"])\n"
      ],
      "metadata": {
        "colab": {
          "base_uri": "https://localhost:8080/"
        },
        "id": "8szAf6wwpcsZ",
        "outputId": "65368ab0-6a9d-4301-9364-cc4346cb451f"
      },
      "execution_count": 17,
      "outputs": [
        {
          "output_type": "stream",
          "name": "stdout",
          "text": [
            "1/1 [==============================] - 0s 123ms/step\n",
            "Digit prediction: 0\n",
            "Digit confidence: 0.9993469\n",
            "1/1 [==============================] - 0s 120ms/step\n",
            "Figure prediction: heart\n",
            "Figure confidence: 0.9814844\n",
            "1/1 [==============================] - 0s 111ms/step\n",
            "Alphabet prediction: a\n",
            "Alphabet confidence: 1.0\n"
          ]
        }
      ]
    },
    {
      "cell_type": "code",
      "source": [
        "model.save(SAVED_MODEL_FILENAME)"
      ],
      "metadata": {
        "id": "ShgqIpH0EFPk"
      },
      "execution_count": 19,
      "outputs": []
    },
    {
      "cell_type": "code",
      "source": [
        "import keras\n",
        "\n",
        "# 대표 데이터셋 생성 함수\n",
        "def representative_dataset():\n",
        "    for filename in glob.glob(\"test/*/*.png\"):\n",
        "        img = keras.preprocessing.image.load_img(filename, target_size=(IMAGE_WIDTH, IMAGE_HEIGHT))\n",
        "        img_array = keras.preprocessing.image.img_to_array(img)\n",
        "        img_array = np.expand_dims(img_array, axis=0)  # 배치 차원 추가\n",
        "        img_array /= 255.0  # Rescaling\n",
        "        img_tensor = tf.cast(img_array, tf.float32)  # float32로 변환\n",
        "        # 이미지 파일 이름에서 flag 정보 추출\n",
        "        flag_value = 1.0 if filename.split(\"/\")[-2].isdigit() else (2.0 if filename.split(\"/\")[-2] in ['circle', 'heart', 'star'] else 3.0)\n",
        "        flag_input = np.array([[flag_value]], dtype=np.float32)  # 2차원 배열로 변환\n",
        "\n",
        "        # 입력 및 출력 텐서 이름 지정\n",
        "        inputs = {\"img_inputs\": img_tensor, \"flag_inputs\": flag_input}\n",
        "\n",
        "        yield inputs\n",
        "\n",
        "\n",
        "# TFLite 변환기 생성\n",
        "converter = tf.lite.TFLiteConverter.from_saved_model(SAVED_MODEL_FILENAME)\n",
        "\n",
        "# 대표 데이터셋 설정\n",
        "converter.representative_dataset = representative_dataset\n",
        "\n",
        "# 최적화 설정\n",
        "converter.optimizations = [tf.lite.Optimize.DEFAULT]\n",
        "\n",
        "# 입력 및 출력 데이터 타입 설정\n",
        "converter.target_spec.supported_ops = [tf.lite.OpsSet.TFLITE_BUILTINS_INT8]\n",
        "converter.inference_input_type = tf.uint8  # 이미지 및 플래그 입력은 float32입니다.\n",
        "converter.inference_output_type = tf.float32\n",
        "\n",
        "# TFLite 모델 변환\n",
        "model_tflite = converter.convert()\n",
        "\n",
        "# 변환된 모델을 파일에 저장\n",
        "open(QUANTIZED_TFL_MODEL_FILENAME, \"wb\").write(model_tflite)\n"
      ],
      "metadata": {
        "id": "NOC24r6zk4qQ",
        "colab": {
          "base_uri": "https://localhost:8080/"
        },
        "outputId": "6ec00410-2e28-43c5-f94c-187002d973b1"
      },
      "execution_count": 20,
      "outputs": [
        {
          "output_type": "execute_result",
          "data": {
            "text/plain": [
              "51768"
            ]
          },
          "metadata": {},
          "execution_count": 20
        }
      ]
    }
  ]
}